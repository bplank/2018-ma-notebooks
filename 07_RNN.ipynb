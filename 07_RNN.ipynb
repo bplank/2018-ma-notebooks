{
 "cells": [
  {
   "cell_type": "markdown",
   "metadata": {
    "slideshow": {
     "slide_type": "slide"
    }
   },
   "source": [
    "# Recurrent Neural Networks"
   ]
  },
  {
   "cell_type": "markdown",
   "metadata": {
    "slideshow": {
     "slide_type": "fragment"
    }
   },
   "source": [
    "* so far our vanilla NNs expected a fixed-length input and predicted a fixed-length output (e.g., sentiment classification example, animacy detection)"
   ]
  },
  {
   "cell_type": "markdown",
   "metadata": {
    "slideshow": {
     "slide_type": "fragment"
    }
   },
   "source": [
    "* we are now looking at neural networks that **handle variable length input**\n"
   ]
  },
  {
   "cell_type": "markdown",
   "metadata": {
    "slideshow": {
     "slide_type": "fragment"
    }
   },
   "source": [
    "* the exciting idea behind **Recurrent Neural Networks** (RNN) is that they allows us to work on **sequences** of input, output, or both"
   ]
  },
  {
   "cell_type": "markdown",
   "metadata": {
    "slideshow": {
     "slide_type": "slide"
    }
   },
   "source": [
    "What do we mean by a *variable length input*?"
   ]
  },
  {
   "cell_type": "markdown",
   "metadata": {
    "slideshow": {
     "slide_type": "fragment"
    }
   },
   "source": [
    "A variable length input is a sequence where each input $x$ has a different length.\n",
    "\n",
    "For instance, the first training instance has $l$ dimensions (say, $l$ tokens), the second input sequence has $m$ dimensions (e.g., tokens).\n",
    "\n",
    "Mathematically, inspired by the notation of Cho (2015):\n",
    "$$ \\mathbf{x_1} = \\langle x_1, ..., x_l \\rangle$$ \n",
    "$$ \\mathbf{x_2} = \\langle x_1, ..., x_m \\rangle$$\n",
    "where $l\\neq m$\n"
   ]
  },
  {
   "cell_type": "markdown",
   "metadata": {
    "slideshow": {
     "slide_type": "slide"
    }
   },
   "source": [
    "### Detour: very simple example\n",
    "\n",
    "From Cho (2015). Assume we have a vector $\\mathbf{x}$ containing zeros and ones. We want to count the number of 1s.\n",
    "\n"
   ]
  },
  {
   "cell_type": "code",
   "execution_count": null,
   "metadata": {
    "collapsed": true,
    "slideshow": {
     "slide_type": "fragment"
    }
   },
   "outputs": [],
   "source": [
    "def add1(el,s):\n",
    "    if el==1: return s+1\n",
    "    else: return s"
   ]
  },
  {
   "cell_type": "code",
   "execution_count": null,
   "metadata": {
    "slideshow": {
     "slide_type": "fragment"
    }
   },
   "outputs": [],
   "source": [
    "v=[0,1,0,0,1,1]\n",
    "s=0\n",
    "for el in v:\n",
    "    s=add1(el,s)\n",
    "print(\"count(1):\", s)"
   ]
  },
  {
   "cell_type": "markdown",
   "metadata": {
    "slideshow": {
     "slide_type": "fragment"
    }
   },
   "source": [
    "Two important components:\n",
    "* memory $s$\n",
    "* function `add1` is applied to each symbol in input *one at a time* together with memory $s$"
   ]
  },
  {
   "cell_type": "markdown",
   "metadata": {
    "slideshow": {
     "slide_type": "fragment"
    }
   },
   "source": [
    "$\\rightarrow$ input of any length"
   ]
  },
  {
   "cell_type": "markdown",
   "metadata": {
    "slideshow": {
     "slide_type": "slide"
    }
   },
   "source": [
    "### Sequences\n",
    "\n",
    "In language technology we often work with sequences, e.g. sequences of words or sentences, e.g., $$ \\mathbf{x_2} = \\langle x_1, ..., x_m \\rangle$$"
   ]
  },
  {
   "cell_type": "markdown",
   "metadata": {
    "slideshow": {
     "slide_type": "fragment"
    }
   },
   "source": [
    "#### Approach 1: We have already seen one approach to handle such sequences"
   ]
  },
  {
   "cell_type": "markdown",
   "metadata": {
    "slideshow": {
     "slide_type": "fragment"
    }
   },
   "source": [
    "taking simply the **mean** of all word vectors in a sentence (e.g., CBOW, see Goldberg's primer); but what about word order?"
   ]
  },
  {
   "cell_type": "markdown",
   "metadata": {
    "slideshow": {
     "slide_type": "fragment"
    }
   },
   "source": [
    "#### Approach 2: Recurrent neural networks (RNNs)"
   ]
  },
  {
   "cell_type": "markdown",
   "metadata": {
    "slideshow": {
     "slide_type": "slide"
    }
   },
   "source": [
    "### RNNs (Elman, 1990): Dependence on previous step"
   ]
  },
  {
   "cell_type": "markdown",
   "metadata": {
    "slideshow": {
     "slide_type": "fragment"
    }
   },
   "source": [
    "* RNNs are called **recurrent** because they predict the next output being dependent on the previous output (i.e., like having a *memory* of what has been seen so far)\n"
   ]
  },
  {
   "cell_type": "markdown",
   "metadata": {
    "slideshow": {
     "slide_type": "fragment"
    }
   },
   "source": [
    "More formally, following the notation in Goldberg (2015):\n",
    "\n",
    "* $\\mathbf{x_{1:n}}$ input sequence\n",
    "* $\\mathbf{s_0}$ starting state (inital state)\n",
    "* function $R$ (\"memory up so far\") that takes a state vector $\\mathbf{s_i}$ and input vector $x_i$ and produces a new state $ \\mathbf{s_{i+1}}$\n",
    "* function $O$ maps from state to output $\\mathbf{y}$"
   ]
  },
  {
   "cell_type": "markdown",
   "metadata": {
    "slideshow": {
     "slide_type": "fragment"
    }
   },
   "source": [
    "Formulation of an RNN (Goldberg 2015): <img src=\"pics/rnn0.png\" width=400> \n",
    "\n",
    "Graphical representation of an RNN (Goldberg 2015): <img src=\"pics/rnn1.png\" width=400> "
   ]
  },
  {
   "cell_type": "markdown",
   "metadata": {
    "slideshow": {
     "slide_type": "slide"
    }
   },
   "source": [
    "### Unrolling over time\n",
    "\n",
    "<img src=\"pics/rnn2.png\">\n",
    "\n",
    "Note: $\\theta$ shared parameters over time!"
   ]
  },
  {
   "cell_type": "markdown",
   "metadata": {
    "slideshow": {
     "slide_type": "fragment"
    }
   },
   "source": [
    "##### Expansion at state 4: \n",
    "<img src=\"pics/rnn3.png\">\n",
    "Note $s_i$ based on all $s_0,..,s_i$."
   ]
  },
  {
   "cell_type": "markdown",
   "metadata": {
    "slideshow": {
     "slide_type": "slide"
    }
   },
   "source": [
    "##### Another visualization (Le Cun et al, 2015)\n",
    "\n",
    "<img src=\"http://d3kbpzbmcynnmx.cloudfront.net/wp-content/uploads/2015/09/rnn.jpg\" alt=\"illustration from WildML\">\n",
    "A recurrent neural network and the unfolding in time of the computation involved in its forward computation (LeCun et al., 2015)."
   ]
  },
  {
   "cell_type": "markdown",
   "metadata": {
    "slideshow": {
     "slide_type": "slide"
    }
   },
   "source": [
    "However, basic RNN tend to not work well past a few recent time steps (vanishing or exploding gradients; one trick: gradient clipping for exploding gradients; otherwise: alternative models)"
   ]
  },
  {
   "cell_type": "markdown",
   "metadata": {
    "slideshow": {
     "slide_type": "fragment"
    }
   },
   "source": [
    "### Different formulations of R,O\n",
    "\n",
    "lead to different instantiations of RNNS:\n",
    "\n",
    "* LSTM (Long Short-Term Memory) (Hochreiter and Schmidhuber, 1997)\n",
    "* GRU (Gated Recurrent Units) (Cho et al., 2014)\n"
   ]
  },
  {
   "cell_type": "markdown",
   "metadata": {
    "slideshow": {
     "slide_type": "slide"
    }
   },
   "source": [
    "## Long Short Term Memory network (LSTM)\n",
    "\n",
    "<img src=\"https://jhui.github.io/assets/rnn/lstm.png\"> \n",
    "\n",
    "$h_t$ in RNN serves 2 purpose:\n",
    "\n",
    "- Make an output prediction, and\n",
    "- A hidden state representing the data sequence processed so far.\n"
   ]
  },
  {
   "cell_type": "markdown",
   "metadata": {
    "slideshow": {
     "slide_type": "fragment"
    }
   },
   "source": [
    "LSTM splits these 2 roles into 2 separate variables $h_t$ and $C$. The hidden state of the LSTM cell is now $C$.\n",
    "\n",
    "\n",
    "There are 3 gates controlling what information will pass through:\n",
    "\n",
    "- gate forget controls what part of the previous cell state will be kept.\n",
    "- gate input controls what part of the new computed information will be added to the cell state C.\n",
    "- gate out controls what part of the cell state will exposed as the hidden state.\n",
    "\n",
    "\n",
    "Helps to keep information longer.\n"
   ]
  },
  {
   "cell_type": "markdown",
   "metadata": {
    "slideshow": {
     "slide_type": "slide"
    }
   },
   "source": [
    "* excellent introduction to LSTMS: [http://colah.github.io/posts/2015-08-Understanding-LSTMs/](http://colah.github.io/posts/2015-08-Understanding-LSTMs/)\n",
    "* [article on dropout in RNNs](https://arxiv.org/abs/1409.2329)\n",
    "* [another post](https://jhui.github.io/2017/03/15/RNN-LSTM-GRU/)"
   ]
  },
  {
   "cell_type": "markdown",
   "metadata": {
    "slideshow": {
     "slide_type": "slide"
    }
   },
   "source": [
    "### Example: Classification with an LSTM"
   ]
  },
  {
   "cell_type": "markdown",
   "metadata": {
    "slideshow": {
     "slide_type": "fragment"
    }
   },
   "source": [
    "Predicting a class label from the last LSTM state (sometimes also known as LSTM **acceptor**, cf. Goldberg, 2015):\n",
    "<img src=\"pics/many2one.png\">\n",
    "\n"
   ]
  },
  {
   "cell_type": "markdown",
   "metadata": {
    "slideshow": {
     "slide_type": "slide"
    }
   },
   "source": [
    "## LSTM in `DyNet`"
   ]
  },
  {
   "cell_type": "code",
   "execution_count": null,
   "metadata": {
    "collapsed": true,
    "slideshow": {
     "slide_type": "fragment"
    }
   },
   "outputs": [],
   "source": [
    "import dynet as dy\n",
    "pc = dy.ParameterCollection()\n",
    "NUM_LAYERS=2\n",
    "INPUT_DIM=50\n",
    "HIDDEN_DIM=10\n",
    "builder = dy.LSTMBuilder(NUM_LAYERS, INPUT_DIM, HIDDEN_DIM, pc)"
   ]
  },
  {
   "cell_type": "code",
   "execution_count": null,
   "metadata": {
    "slideshow": {
     "slide_type": "fragment"
    }
   },
   "outputs": [],
   "source": [
    "s0 = builder.initial_state() # get initial state\n",
    "x1 = dy.vecInput(50)"
   ]
  },
  {
   "cell_type": "code",
   "execution_count": null,
   "metadata": {
    "slideshow": {
     "slide_type": "fragment"
    }
   },
   "outputs": [],
   "source": [
    "s1=s0.add_input(x1)\n",
    "y1 = s1.output()\n",
    "# here, we add x1 to the RNN, and the output we get from the top is y (a HIDEN_DIM-dim vector)"
   ]
  },
  {
   "cell_type": "code",
   "execution_count": null,
   "metadata": {
    "slideshow": {
     "slide_type": "fragment"
    }
   },
   "outputs": [],
   "source": [
    "y1.npvalue().shape\n"
   ]
  },
  {
   "cell_type": "code",
   "execution_count": null,
   "metadata": {
    "slideshow": {
     "slide_type": "fragment"
    }
   },
   "outputs": [],
   "source": [
    "s2=s1.add_input(x1) # we can add another input\n",
    "y2=s2.output() # call the output of this state"
   ]
  },
  {
   "cell_type": "markdown",
   "metadata": {
    "slideshow": {
     "slide_type": "slide"
    }
   },
   "source": [
    "#### Aside: memory efficient transduction"
   ]
  },
  {
   "cell_type": "code",
   "execution_count": null,
   "metadata": {
    "slideshow": {
     "slide_type": "slide"
    }
   },
   "outputs": [],
   "source": [
    "\n",
    "### more efficient - transduce\n",
    "dy.renew_cg()\n",
    "word_embs = [dy.lookup(W_emb, x) for x in words]\n",
    "fwd_lstm = fwdLSTM.initial_state()\n",
    "\n",
    "fwd_lstm.init() # get initial state\n",
    "\n",
    "h_lstm = fwd_lstm.transduce(word_embs) # run through the entire sentence\n",
    "   \n",
    "W_sm_exp = dy.parameter(W_sm)\n",
    "b_sm_exp = dy.parameter(b_sm)\n",
    "score = W_sm_exp * h_lstm + b_sm_exp"
   ]
  },
  {
   "cell_type": "markdown",
   "metadata": {
    "slideshow": {
     "slide_type": "slide"
    }
   },
   "source": [
    "\n",
    "### RNNs:  **sequences** of input, output, or both\n",
    "\n",
    "Karpathy's illustration of RNNs:\n",
    "<img src=\"http://benjaminbolte.com/resources/attention_rnn/karpathy_rnn.jpeg\">\n",
    "\n",
    "* From left to right: (1) Vanilla mode of processing without RNN, from fixed-sized input to fixed-sized output (e.g. image classification). (2) Sequence output (e.g. image captioning takes an image and outputs a sentence of words). (3) Sequence input (e.g. sentiment analysis where a given sentence is classified as expressing positive or negative sentiment). (4) Sequence input and sequence output (e.g. Machine Translation: an RNN reads a sentence in English and then outputs a sentence in French). (5) Synced sequence input and output (e.g. video classification where we wish to label each frame of the video). Notice that in every case are no pre-specified constraints on the lengths sequences because the recurrent transformation (green) is fixed and can be applied as many times as we like.*"
   ]
  },
  {
   "cell_type": "markdown",
   "metadata": {
    "slideshow": {
     "slide_type": "slide"
    }
   },
   "source": [
    "##### One to many: Image caption generation, Karpathy and Li (2014)\n",
    "<img src=\"pics/karpathy-li-2014.png\" width=500>\n",
    "http://www.cv-foundation.org/openaccess/content_cvpr_2015/papers/Karpathy_Deep_Visual-Semantic_Alignments_2015_CVPR_paper.pdf"
   ]
  },
  {
   "cell_type": "markdown",
   "metadata": {
    "slideshow": {
     "slide_type": "slide"
    }
   },
   "source": [
    "##### many to many: POS tagging\n",
    "\n",
    "bidirectional RNN (biRNN/biLSTM) - (Plank et al., 2016):\n",
    "\n",
    "<img src=\"pics/bilstm.png\">"
   ]
  },
  {
   "cell_type": "code",
   "execution_count": 5,
   "metadata": {},
   "outputs": [
    {
     "ename": "KeyboardInterrupt",
     "evalue": "",
     "output_type": "error",
     "traceback": [
      "\u001b[0;31m---------------------------------------------------------------------------\u001b[0m",
      "\u001b[0;31mKeyboardInterrupt\u001b[0m                         Traceback (most recent call last)",
      "\u001b[0;32m<ipython-input-5-cb92b8934fb2>\u001b[0m in \u001b[0;36m<module>\u001b[0;34m()\u001b[0m\n\u001b[1;32m    154\u001b[0m         \u001b[0mloss\u001b[0m \u001b[0;34m+=\u001b[0m \u001b[0msum_errs\u001b[0m\u001b[0;34m.\u001b[0m\u001b[0mscalar_value\u001b[0m\u001b[0;34m(\u001b[0m\u001b[0;34m)\u001b[0m\u001b[0;34m\u001b[0m\u001b[0m\n\u001b[1;32m    155\u001b[0m         \u001b[0mtagged\u001b[0m \u001b[0;34m+=\u001b[0m \u001b[0mlen\u001b[0m\u001b[0;34m(\u001b[0m\u001b[0mps\u001b[0m\u001b[0;34m)\u001b[0m\u001b[0;34m\u001b[0m\u001b[0m\n\u001b[0;32m--> 156\u001b[0;31m         \u001b[0msum_errs\u001b[0m\u001b[0;34m.\u001b[0m\u001b[0mbackward\u001b[0m\u001b[0;34m(\u001b[0m\u001b[0;34m)\u001b[0m\u001b[0;34m\u001b[0m\u001b[0m\n\u001b[0m\u001b[1;32m    157\u001b[0m         \u001b[0mtrainer\u001b[0m\u001b[0;34m.\u001b[0m\u001b[0mupdate\u001b[0m\u001b[0;34m(\u001b[0m\u001b[0;34m)\u001b[0m\u001b[0;34m\u001b[0m\u001b[0m\n\u001b[1;32m    158\u001b[0m \u001b[0;34m\u001b[0m\u001b[0m\n",
      "\u001b[0;31mKeyboardInterrupt\u001b[0m: "
     ]
    }
   ],
   "source": [
    "## bilstm tagger in DyNet - from https://github.com/clab/dynet/blob/master/examples/tagger/bilstmtagger.py\n",
    "\n",
    "import dynet as dy\n",
    "from collections import Counter\n",
    "import random\n",
    "\n",
    "# format of files: each line is \"word<TAB>tag<newline>\", blank line is new sentence.\n",
    "train_file=\"/Users/bplank/Dropbox/corpora/pos/ud1.3/orgtok/goldpos/da-ud-train.conllu\"\n",
    "test_file=\"/Users/bplank/Dropbox/corpora/pos/ud1.3/orgtok/goldpos/da-ud-dev.conllu\"\n",
    "\n",
    "class Vocab:\n",
    "    def __init__(self, w2i):\n",
    "        self.w2i = dict(w2i)\n",
    "        self.i2w = {i:w for w,i in w2i.items()}\n",
    "\n",
    "    @classmethod\n",
    "    def from_corpus(cls, corpus):\n",
    "        w2i = {}\n",
    "        for sent in corpus:\n",
    "            for word in sent:\n",
    "                w2i.setdefault(word, len(w2i))\n",
    "        return Vocab(w2i)\n",
    "\n",
    "    def size(self):\n",
    "        return len(self.w2i.keys())\n",
    "\n",
    "MLP=True\n",
    "\n",
    "def read(fname):\n",
    "    sent = []\n",
    "    for line in open(fname):\n",
    "        line = line.strip().split()\n",
    "        if not line:\n",
    "            if sent: yield sent\n",
    "            sent = []\n",
    "        else:\n",
    "            w,p = line\n",
    "            sent.append((w,p))\n",
    "\n",
    "train=list(read(train_file))\n",
    "test=list(read(test_file))\n",
    "words=[]\n",
    "tags=[]\n",
    "wc=Counter()\n",
    "for s in train:\n",
    "    for w,p in s:\n",
    "        words.append(w)\n",
    "        tags.append(p)\n",
    "        wc[w]+=1\n",
    "words.append(\"_UNK_\")\n",
    "#words=[w if wc[w] > 1 else \"_UNK_\" for w in words]\n",
    "tags.append(\"_START_\")\n",
    "\n",
    "for s in test:\n",
    "    for w,p in s:\n",
    "        words.append(w)\n",
    "\n",
    "vw = Vocab.from_corpus([words])\n",
    "vt = Vocab.from_corpus([tags])\n",
    "UNK = vw.w2i[\"_UNK_\"]\n",
    "\n",
    "nwords = vw.size()\n",
    "ntags  = vt.size()\n",
    "\n",
    "model = dy.Model()\n",
    "trainer = dy.SimpleSGDTrainer(model)\n",
    "\n",
    "E = model.add_lookup_parameters((nwords, 128))\n",
    "p_t1  = model.add_lookup_parameters((ntags, 30))\n",
    "if MLP:\n",
    "    pH = model.add_parameters((32, 50*2))\n",
    "    pO = model.add_parameters((ntags, 32))\n",
    "else:\n",
    "    pO = model.add_parameters((ntags, 50*2))\n",
    "\n",
    "builders=[\n",
    "        dy.LSTMBuilder(1, 128, 50, model),\n",
    "        dy.LSTMBuilder(1, 128, 50, model),\n",
    "        ]\n",
    "\n",
    "def build_tagging_graph(words, tags, builders):\n",
    "    dy.renew_cg()\n",
    "    f_init, b_init = [b.initial_state() for b in builders]\n",
    "\n",
    "    wembs = [E[w] for w in words]\n",
    "    wembs = [dy.noise(we,0.1) for we in wembs]\n",
    "\n",
    "    fw = [x.output() for x in f_init.add_inputs(wembs)]\n",
    "    bw = [x.output() for x in b_init.add_inputs(reversed(wembs))]\n",
    "\n",
    "    if MLP:\n",
    "        H = dy.parameter(pH)\n",
    "        O = dy.parameter(pO)\n",
    "    else:\n",
    "        O = dy.parameter(pO)\n",
    "    errs = []\n",
    "    for f,b,t in zip(fw, reversed(bw), tags):\n",
    "        f_b = dy.concatenate([f,b])\n",
    "        if MLP:\n",
    "            r_t = O*(dy.tanh(H * f_b))\n",
    "        else:\n",
    "            r_t = O * f_b\n",
    "        err = dy.pickneglogsoftmax(r_t, t)\n",
    "        errs.append(err)\n",
    "    return dy.esum(errs)\n",
    "\n",
    "def tag_sent(sent, builders):\n",
    "    dy.renew_cg()\n",
    "    f_init, b_init = [b.initial_state() for b in builders]\n",
    "    wembs = [E[vw.w2i.get(w, UNK)] for w,t in sent]\n",
    "\n",
    "    fw = [x.output() for x in f_init.add_inputs(wembs)]\n",
    "    bw = [x.output() for x in b_init.add_inputs(reversed(wembs))]\n",
    "\n",
    "    if MLP:\n",
    "        H = dy.parameter(pH)\n",
    "        O = dy.parameter(pO)\n",
    "    else:\n",
    "        O = dy.parameter(pO)\n",
    "    tags=[]\n",
    "    for f,b,(w,t) in zip(fw,reversed(bw),sent):\n",
    "        if MLP:\n",
    "            r_t = O*(dy.tanh(H * dy.concatenate([f,b])))\n",
    "        else:\n",
    "            r_t = O*dy.concatenate([f,b])\n",
    "        out = dy.softmax(r_t)\n",
    "        chosen = np.argmax(out.npvalue())\n",
    "        tags.append(vt.i2w[chosen])\n",
    "    return tags\n",
    "\n",
    "\n",
    "tagged = loss = 0\n",
    "for ITER in range(50):\n",
    "    random.shuffle(train)\n",
    "    for i,s in enumerate(train,1):\n",
    "        if i % 5000 == 0:\n",
    "            trainer.status()\n",
    "            print(loss / tagged)\n",
    "            loss = 0\n",
    "            tagged = 0\n",
    "        if i % 10000 == 0:\n",
    "            good = bad = 0.0\n",
    "            for sent in test:\n",
    "                tags = tag_sent(sent, builders)\n",
    "                golds = [t for w,t in sent]\n",
    "                for go,gu in zip(golds,tags):\n",
    "                    if go == gu: good +=1 \n",
    "                    else: bad+=1\n",
    "            print(good/(good+bad))\n",
    "        ws = [vw.w2i.get(w, UNK) for w,p in s]\n",
    "        ps = [vt.w2i[p] for w,p in s]\n",
    "        sum_errs = build_tagging_graph(ws,ps,builders)\n",
    "        squared = -sum_errs# * sum_errs\n",
    "        loss += sum_errs.scalar_value()\n",
    "        tagged += len(ps)\n",
    "        sum_errs.backward()\n",
    "        trainer.update()\n",
    "\n"
   ]
  },
  {
   "cell_type": "markdown",
   "metadata": {
    "slideshow": {
     "slide_type": "fragment"
    }
   },
   "source": [
    "Exercise time! "
   ]
  },
  {
   "cell_type": "markdown",
   "metadata": {
    "slideshow": {
     "slide_type": "slide"
    }
   },
   "source": [
    "## References\n",
    "\n",
    "* [Kyunghyun Cho's excellent lecture notes, chapter 4](http://arxiv.org/abs/1511.07916)\n",
    "* [Karpathy's blog on RNNs](http://karpathy.github.io/2015/05/21/rnn-effectiveness/)\n",
    "* [WildMl blog](http://www.wildml.com/2015/09/recurrent-neural-networks-tutorial-part-1-introduction-to-rnns/)\n",
    "    "
   ]
  }
 ],
 "metadata": {
  "celltoolbar": "Slideshow",
  "kernelspec": {
   "display_name": "Python 3",
   "language": "python",
   "name": "python3"
  },
  "language_info": {
   "codemirror_mode": {
    "name": "ipython",
    "version": 3
   },
   "file_extension": ".py",
   "mimetype": "text/x-python",
   "name": "python",
   "nbconvert_exporter": "python",
   "pygments_lexer": "ipython3",
   "version": "3.6.1"
  }
 },
 "nbformat": 4,
 "nbformat_minor": 1
}
